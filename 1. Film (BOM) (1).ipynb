{
 "cells": [
  {
   "cell_type": "markdown",
   "metadata": {
    "slideshow": {
     "slide_type": "slide"
    }
   },
   "source": [
    "# Film (BOM)\n",
    "\n",
    "\n",
    "### Aggregate Box Office Numbers per Title"
   ]
  },
  {
   "cell_type": "code",
   "execution_count": 20,
   "metadata": {
    "slideshow": {
     "slide_type": "slide"
    }
   },
   "outputs": [],
   "source": [
    "import requests\n",
    "import lxml.html as lh\n",
    "import pandas as pd\n",
    "year = ['2016','2017','2018','2019','2020']\n",
    "\n",
    "for y in year :\n",
    "    url='https://www.boxofficemojo.com/year/world/'+y\n",
    "    page = requests.get(url)\n",
    "    doc = lh.fromstring(page.content)\n",
    "    tr_elements = doc.xpath('//tr')\n",
    "    col=[]\n",
    "    i=0\n",
    "    for t in tr_elements[0]:\n",
    "        i+=1\n",
    "        name=t.text_content()\n",
    "        col.append((name,[]))\n",
    "    for j in range(1,len(tr_elements)):\n",
    "        T=tr_elements[j]\n",
    "        if len(T)!=7:\n",
    "            break\n",
    "        i=0\n",
    "        for t in T.iterchildren():\n",
    "            data=t.text_content() \n",
    "            if i>0:\n",
    "                try:\n",
    "                    data=int(data)\n",
    "                except:\n",
    "                    pass\n",
    "            col[i][1].append(data)\n",
    "            i+=1\n",
    "    Dict={title:column for (title,column) in col}      \n",
    "    if   y == '2020':\n",
    "        dfOne=pd.DataFrame(Dict).assign(Year=y)\n",
    "    elif y == '2019':\n",
    "        dfTwo=pd.DataFrame(Dict).assign(Year=y)\n",
    "    elif y == '2018':\n",
    "        dfThree=pd.DataFrame(Dict).assign(Year=y)\n",
    "    elif y == '2017':\n",
    "        dfFour=pd.DataFrame(Dict).assign(Year=y)\n",
    "    elif y == '2016':\n",
    "        dfFive=pd.DataFrame(Dict).assign(Year=y)        \n",
    "Aggregate = pd.concat([dfOne,dfTwo,dfThree,dfFour,dfFive], ignore_index=True)  \n",
    "Aggregate.columns = Aggregate.columns.str.replace(' ', '')\n",
    "Aggregate = Aggregate.rename(columns={\"Rank\": \"Number\", \"ReleaseGroup\\n\": \"Title\",\"%\":\"Change\"})\n",
    "Aggregate = Aggregate.set_index(['Title'])\n",
    "Film = Aggregate.drop(['Number'],axis =1)\n",
    "# Film"
   ]
  },
  {
   "cell_type": "code",
   "execution_count": 21,
   "metadata": {
    "slideshow": {
     "slide_type": "slide"
    }
   },
   "outputs": [
    {
     "data": {
      "text/html": [
       "<div>\n",
       "<style scoped>\n",
       "    .dataframe tbody tr th:only-of-type {\n",
       "        vertical-align: middle;\n",
       "    }\n",
       "\n",
       "    .dataframe tbody tr th {\n",
       "        vertical-align: top;\n",
       "    }\n",
       "\n",
       "    .dataframe thead th {\n",
       "        text-align: right;\n",
       "    }\n",
       "</style>\n",
       "<table border=\"1\" class=\"dataframe\">\n",
       "  <thead>\n",
       "    <tr style=\"text-align: right;\">\n",
       "      <th></th>\n",
       "      <th>Worldwide</th>\n",
       "      <th>Domestic</th>\n",
       "      <th>Change</th>\n",
       "      <th>Foreign</th>\n",
       "      <th>Year</th>\n",
       "    </tr>\n",
       "    <tr>\n",
       "      <th>Title</th>\n",
       "      <th></th>\n",
       "      <th></th>\n",
       "      <th></th>\n",
       "      <th></th>\n",
       "      <th></th>\n",
       "    </tr>\n",
       "  </thead>\n",
       "  <tbody>\n",
       "    <tr>\n",
       "      <td>I Am Not Your Negro</td>\n",
       "      <td>$8,345,298</td>\n",
       "      <td>$7,123,919</td>\n",
       "      <td>14.6%</td>\n",
       "      <td>$1,221,379</td>\n",
       "      <td>2017</td>\n",
       "    </tr>\n",
       "    <tr>\n",
       "      <td>Baar Baar Dekho</td>\n",
       "      <td>$1,329,777</td>\n",
       "      <td>$981,947</td>\n",
       "      <td>26.2%</td>\n",
       "      <td>$347,830</td>\n",
       "      <td>2016</td>\n",
       "    </tr>\n",
       "    <tr>\n",
       "      <td>The Bolshoi Ballet: Live From Moscow - The Lady of the Camellias</td>\n",
       "      <td>$167,991</td>\n",
       "      <td>$167,991</td>\n",
       "      <td>-</td>\n",
       "      <td>-</td>\n",
       "      <td>2018</td>\n",
       "    </tr>\n",
       "  </tbody>\n",
       "</table>\n",
       "</div>"
      ],
      "text/plain": [
       "                                                     Worldwide    Domestic  \\\n",
       "Title                                                                        \n",
       "I Am Not Your Negro                                 $8,345,298  $7,123,919   \n",
       "Baar Baar Dekho                                     $1,329,777    $981,947   \n",
       "The Bolshoi Ballet: Live From Moscow - The Lady...    $167,991    $167,991   \n",
       "\n",
       "                                                   Change     Foreign  Year  \n",
       "Title                                                                        \n",
       "I Am Not Your Negro                                 14.6%  $1,221,379  2017  \n",
       "Baar Baar Dekho                                     26.2%    $347,830  2016  \n",
       "The Bolshoi Ballet: Live From Moscow - The Lady...      -           -  2018  "
      ]
     },
     "execution_count": 21,
     "metadata": {},
     "output_type": "execute_result"
    }
   ],
   "source": [
    "Film.sample(3)"
   ]
  },
  {
   "cell_type": "code",
   "execution_count": 22,
   "metadata": {
    "slideshow": {
     "slide_type": "slide"
    }
   },
   "outputs": [
    {
     "data": {
      "text/plain": [
       "(3136, 5)"
      ]
     },
     "execution_count": 22,
     "metadata": {},
     "output_type": "execute_result"
    }
   ],
   "source": [
    "Film.shape"
   ]
  },
  {
   "cell_type": "code",
   "execution_count": 23,
   "metadata": {
    "slideshow": {
     "slide_type": "slide"
    }
   },
   "outputs": [
    {
     "name": "stdout",
     "output_type": "stream",
     "text": [
      "<class 'pandas.core.frame.DataFrame'>\n",
      "Index: 3136 entries, Bad Boys for Life to Green is Gold\n",
      "Data columns (total 5 columns):\n",
      "Worldwide    3136 non-null object\n",
      "Domestic     3136 non-null object\n",
      "Change       3136 non-null object\n",
      "Foreign      3136 non-null object\n",
      "Year         3136 non-null object\n",
      "dtypes: object(5)\n",
      "memory usage: 147.0+ KB\n"
     ]
    }
   ],
   "source": [
    "Film.info()"
   ]
  },
  {
   "cell_type": "code",
   "execution_count": 24,
   "metadata": {
    "slideshow": {
     "slide_type": "slide"
    }
   },
   "outputs": [
    {
     "data": {
      "text/html": [
       "<div>\n",
       "<style scoped>\n",
       "    .dataframe tbody tr th:only-of-type {\n",
       "        vertical-align: middle;\n",
       "    }\n",
       "\n",
       "    .dataframe tbody tr th {\n",
       "        vertical-align: top;\n",
       "    }\n",
       "\n",
       "    .dataframe thead th {\n",
       "        text-align: right;\n",
       "    }\n",
       "</style>\n",
       "<table border=\"1\" class=\"dataframe\">\n",
       "  <thead>\n",
       "    <tr style=\"text-align: right;\">\n",
       "      <th></th>\n",
       "      <th>Worldwide</th>\n",
       "      <th>Domestic</th>\n",
       "      <th>Change</th>\n",
       "      <th>Foreign</th>\n",
       "      <th>Year</th>\n",
       "    </tr>\n",
       "  </thead>\n",
       "  <tbody>\n",
       "    <tr>\n",
       "      <td>count</td>\n",
       "      <td>3136</td>\n",
       "      <td>3136</td>\n",
       "      <td>3136</td>\n",
       "      <td>3136</td>\n",
       "      <td>3136</td>\n",
       "    </tr>\n",
       "    <tr>\n",
       "      <td>unique</td>\n",
       "      <td>3129</td>\n",
       "      <td>3004</td>\n",
       "      <td>826</td>\n",
       "      <td>1998</td>\n",
       "      <td>5</td>\n",
       "    </tr>\n",
       "    <tr>\n",
       "      <td>top</td>\n",
       "      <td>$7,768</td>\n",
       "      <td>-</td>\n",
       "      <td>-</td>\n",
       "      <td>-</td>\n",
       "      <td>2018</td>\n",
       "    </tr>\n",
       "    <tr>\n",
       "      <td>freq</td>\n",
       "      <td>2</td>\n",
       "      <td>119</td>\n",
       "      <td>1137</td>\n",
       "      <td>1137</td>\n",
       "      <td>898</td>\n",
       "    </tr>\n",
       "  </tbody>\n",
       "</table>\n",
       "</div>"
      ],
      "text/plain": [
       "       Worldwide Domestic Change Foreign  Year\n",
       "count       3136     3136   3136    3136  3136\n",
       "unique      3129     3004    826    1998     5\n",
       "top       $7,768        -      -       -  2018\n",
       "freq           2      119   1137    1137   898"
      ]
     },
     "execution_count": 24,
     "metadata": {},
     "output_type": "execute_result"
    }
   ],
   "source": [
    "Film.describe()"
   ]
  },
  {
   "cell_type": "markdown",
   "metadata": {
    "slideshow": {
     "slide_type": "slide"
    }
   },
   "source": [
    "# Notes \n",
    "### 1. Numbers have 10-20% Error compare with IBOE\n"
   ]
  }
 ],
 "metadata": {
  "celltoolbar": "Slideshow",
  "kernelspec": {
   "display_name": "Python 3",
   "language": "python",
   "name": "python3"
  },
  "language_info": {
   "codemirror_mode": {
    "name": "ipython",
    "version": 3
   },
   "file_extension": ".py",
   "mimetype": "text/x-python",
   "name": "python",
   "nbconvert_exporter": "python",
   "pygments_lexer": "ipython3",
   "version": "3.7.4"
  }
 },
 "nbformat": 4,
 "nbformat_minor": 2
}
